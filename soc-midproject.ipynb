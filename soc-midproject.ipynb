{
 "cells": [
  {
   "cell_type": "code",
   "execution_count": 1,
   "id": "bbc703b4",
   "metadata": {
    "scrolled": true
   },
   "outputs": [],
   "source": [
    "import gymnasium as gym\n",
    "import random\n",
    "import numpy as np\n",
    "import matplotlib.pyplot as plt"
   ]
  },
  {
   "cell_type": "code",
   "execution_count": 2,
   "id": "ff612270",
   "metadata": {},
   "outputs": [
    {
     "name": "stderr",
     "output_type": "stream",
     "text": [
      "C:\\Users\\rohan\\AppData\\Local\\Programs\\Python\\Python311\\Lib\\site-packages\\gymnasium\\envs\\toy_text\\taxi.py:314: UserWarning: \u001b[33mWARN: You are calling render method without specifying any render mode. You can specify the render_mode at initialization, e.g. gym.make(\"Taxi-v3\", render_mode=\"rgb_array\")\u001b[0m\n",
      "  gym.logger.warn(\n"
     ]
    }
   ],
   "source": [
    "env = gym.make('Taxi-v3')\n",
    "env.reset()\n",
    "env.render()"
   ]
  },
  {
   "cell_type": "code",
   "execution_count": 3,
   "id": "67cc087d",
   "metadata": {},
   "outputs": [
    {
     "name": "stdout",
     "output_type": "stream",
     "text": [
      "[[0. 0. 0. 0. 0. 0.]\n",
      " [0. 0. 0. 0. 0. 0.]\n",
      " [0. 0. 0. 0. 0. 0.]\n",
      " ...\n",
      " [0. 0. 0. 0. 0. 0.]\n",
      " [0. 0. 0. 0. 0. 0.]\n",
      " [0. 0. 0. 0. 0. 0.]]\n"
     ]
    }
   ],
   "source": [
    "num_rows = env.observation_space.n\n",
    "num_columns = env.action_space.n\n",
    "qtable = np.zeros((num_rows,num_columns))\n",
    "print(qtable)"
   ]
  },
  {
   "cell_type": "code",
   "execution_count": 4,
   "id": "3ff580a9",
   "metadata": {
    "scrolled": true
   },
   "outputs": [],
   "source": [
    "#hyperparameters\n",
    "episodes = 10000\n",
    "alpha = 0.5 #learning rate\n",
    "gamma = 0.9 #discount factor\n",
    "epsilon = 1 #exploration factor\n",
    "        "
   ]
  },
  {
   "cell_type": "code",
   "execution_count": 10,
   "id": "e777ca79",
   "metadata": {},
   "outputs": [
    {
     "name": "stdout",
     "output_type": "stream",
     "text": [
      "Qtable after reaching the end of training: \n",
      "\n",
      "[[ 0.          0.          0.          0.          0.          0.        ]\n",
      " [-0.58568212  0.4603532  -0.58568212  0.4603532   1.62261467 -8.5396468 ]\n",
      " [ 4.348907    5.94323     4.348907    5.94323     7.7147     -3.05677   ]\n",
      " ...\n",
      " [ 7.7147      9.683       7.7147      5.94323    -1.2853     -1.2853    ]\n",
      " [ 1.62261467  2.9140163   1.62261467  2.9140163  -7.37738533 -7.37738533]\n",
      " [14.3        11.87       14.3        17.          5.3         5.3       ]]\n"
     ]
    }
   ],
   "source": [
    "outcomes = []\n",
    "\n",
    "\n",
    "#going through episodes: \n",
    "for epi in range(episodes):\n",
    "    state=env.reset()\n",
    "    state = state[0]\n",
    "\n",
    "    done = False\n",
    "    \n",
    "    curr_outcome = \"Failiure\"\n",
    "    outcomes.append(curr_outcome)\n",
    "    \n",
    "    while not done:\n",
    "        #choose action between random or most benefitial: \n",
    "        if np.random.uniform(0,1) < epsilon:\n",
    "            action = env.action_space.sample()\n",
    "            \n",
    "        else:\n",
    "            action = np.argmax(qtable[state])\n",
    "        \n",
    "\n",
    "        #while action is hapenning\n",
    "        new_state,reward,truncated,terminated,info = env.step(action)\n",
    "        \n",
    "        done = truncated or terminated\n",
    "        \n",
    "        #qtable updating\n",
    "        qtable[state,action] = qtable[state,action] + alpha*(reward + gamma*np.max(qtable[new_state])-qtable[state,action])\n",
    "        \n",
    "        #updating current state\n",
    "        state = new_state\n",
    "        \n",
    "        #updating outcome \n",
    "        if reward == 20:\n",
    "            outcomes[-1]=\"Successful\"\n",
    "\n",
    "print(\"Qtable after reaching the end of training: \\n\")\n",
    "print(qtable)"
   ]
  },
  {
   "cell_type": "code",
   "execution_count": null,
   "id": "aa9ddf6f",
   "metadata": {},
   "outputs": [],
   "source": []
  },
  {
   "cell_type": "code",
   "execution_count": 11,
   "id": "e80ed5e1",
   "metadata": {
    "scrolled": false
   },
   "outputs": [
    {
     "data": {
      "image/png": "[encoded data removed]",
      "text/plain": [
       "<Figure size 1200x500 with 1 Axes>"
      ]
     },
     "metadata": {},
     "output_type": "display_data"
    }
   ],
   "source": [
    "plt.figure(figsize=(12,5))\n",
    "plt.xlabel(\"Episode Number\")\n",
    "plt.ylabel(\"Outcome\")\n",
    "ax = plt.gca()\n",
    "ax.set_facecolor('#efeeea')\n",
    "plt.bar(range(len(outcomes)),outcomes,color=\"black\",width = 1)\n",
    "plt.show()"
   ]
  },
  {
   "cell_type": "code",
   "execution_count": null,
   "id": "3ea4e219",
   "metadata": {},
   "outputs": [],
   "source": []
  },
  {
   "cell_type": "code",
   "execution_count": null,
   "id": "60df6533",
   "metadata": {},
   "outputs": [],
   "source": []
  },
  {
   "cell_type": "code",
   "execution_count": null,
   "id": "01e7b9c7",
   "metadata": {},
   "outputs": [],
   "source": []
  }
 ],
 "metadata": {
  "kernelspec": {
   "display_name": "Python 3 (ipykernel)",
   "language": "python",
   "name": "python3"
  },
  "language_info": {
   "codemirror_mode": {
    "name": "ipython",
    "version": 3
   },
   "file_extension": ".py",
   "mimetype": "text/x-python",
   "name": "python",
   "nbconvert_exporter": "python",
   "pygments_lexer": "ipython3",
   "version": "3.11.3"
  }
 },
 "nbformat": 4,
 "nbformat_minor": 5
}
